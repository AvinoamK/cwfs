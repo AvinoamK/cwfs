{
 "cells": [
  {
   "cell_type": "code",
   "execution_count": null,
   "metadata": {
    "collapsed": true
   },
   "outputs": [],
   "source": [
    "%matplotlib inline"
   ]
  },
  {
   "cell_type": "markdown",
   "metadata": {},
   "source": [
    "### load the modules \n",
    "(if you are using astropy verion older than 1.0.5, below you may see a warning about IPython.kernel being deprecated. See https://github.com/astropy/astropy/pull/4078 )"
   ]
  },
  {
   "cell_type": "code",
   "execution_count": null,
   "metadata": {
    "collapsed": false
   },
   "outputs": [],
   "source": [
    "from lsst.cwfs.instru import cwfsInstru\n",
    "from lsst.cwfs.algo import cwfsAlgo\n",
    "from lsst.cwfs.image import cwfsImage\n",
    "import lsst.cwfs.plots as plot"
   ]
  },
  {
   "cell_type": "markdown",
   "metadata": {},
   "source": [
    "### Define the image objects. Input arguments: file name, field coordinates in deg, image type"
   ]
  },
  {
   "cell_type": "code",
   "execution_count": null,
   "metadata": {
    "collapsed": false
   },
   "outputs": [],
   "source": [
    "I1=cwfsImage('../testImages/LSST_NE_SN25/z11_0.25_intra.txt',[1.185,1.185],'intra')\n",
    "I2=cwfsImage('../testImages/LSST_NE_SN25/z11_0.25_extra.txt',[1.185,1.185],'extra')"
   ]
  },
  {
   "cell_type": "markdown",
   "metadata": {},
   "source": [
    "### Define the instrument. Input arguments: instrument name, size of image stamps"
   ]
  },
  {
   "cell_type": "code",
   "execution_count": null,
   "metadata": {
    "collapsed": true
   },
   "outputs": [],
   "source": [
    "inst=cwfsInstru('lsst',I1.sizeinPix)"
   ]
  },
  {
   "cell_type": "markdown",
   "metadata": {},
   "source": [
    "### Run everything automatically, and print the Zernikes"
   ]
  },
  {
   "cell_type": "code",
   "execution_count": null,
   "metadata": {
    "collapsed": false
   },
   "outputs": [],
   "source": [
    "algo=cwfsAlgo('exp',inst,1)\n",
    "algo.runIt(inst,I1,I2,'offAxis')\n",
    "print(algo.zer4UpNm)"
   ]
  },
  {
   "cell_type": "markdown",
   "metadata": {},
   "source": [
    "### Now we decide to chang the base algorithm from 'exp' to 'fft', and step through the iterations manually"
   ]
  },
  {
   "cell_type": "code",
   "execution_count": null,
   "metadata": {
    "collapsed": false
   },
   "outputs": [],
   "source": [
    "algo=cwfsAlgo('fft',inst,3)\n",
    "algo.itr0(inst,I1,I2,'offAxis')"
   ]
  },
  {
   "cell_type": "markdown",
   "metadata": {},
   "source": [
    "### Look at the wavefront signal image"
   ]
  },
  {
   "cell_type": "code",
   "execution_count": null,
   "metadata": {
    "collapsed": false
   },
   "outputs": [],
   "source": [
    "plot.plotImage(algo.S,'wavefront signal')"
   ]
  },
  {
   "cell_type": "markdown",
   "metadata": {},
   "source": [
    "### Do 2 more iterations"
   ]
  },
  {
   "cell_type": "code",
   "execution_count": null,
   "metadata": {
    "collapsed": false
   },
   "outputs": [],
   "source": [
    "algo.nextItr(inst,I1,I2,'offAxis')\n",
    "plot.plotImage(algo.S,'wavefront signal')\n",
    "algo.nextItr(inst,I1,I2,'offAxis')\n",
    "plot.plotImage(algo.S,'wavefront signal')"
   ]
  },
  {
   "cell_type": "markdown",
   "metadata": {},
   "source": [
    "### continue, and finish the rest of the 14 iterations. Check the wavefront signal image at the end"
   ]
  },
  {
   "cell_type": "code",
   "execution_count": null,
   "metadata": {
    "collapsed": false
   },
   "outputs": [],
   "source": [
    "algo.runIt(inst,I1,I2,'offAxis')\n",
    "plot.plotImage(algo.S,'wavefront signal')"
   ]
  },
  {
   "cell_type": "markdown",
   "metadata": {},
   "source": [
    "### switch back to the 'exp' algorithm"
   ]
  },
  {
   "cell_type": "code",
   "execution_count": null,
   "metadata": {
    "collapsed": true
   },
   "outputs": [],
   "source": [
    "algo=cwfsAlgo('exp',inst,1)"
   ]
  },
  {
   "cell_type": "markdown",
   "metadata": {},
   "source": [
    "### run one iteration manually"
   ]
  },
  {
   "cell_type": "code",
   "execution_count": null,
   "metadata": {
    "collapsed": false
   },
   "outputs": [],
   "source": [
    "algo.nextItr(inst,I1,I2,'offAxis')\n",
    "print('Current Iteration No = %d'%algo.currentItr)"
   ]
  },
  {
   "cell_type": "markdown",
   "metadata": {},
   "source": [
    "### change debug level and run 2 more iterations"
   ]
  },
  {
   "cell_type": "code",
   "execution_count": null,
   "metadata": {
    "collapsed": false
   },
   "outputs": [],
   "source": [
    "algo.setDebugLevel(3)\n",
    "algo.nextItr(inst,I1,I2,'offAxis',2)"
   ]
  },
  {
   "cell_type": "markdown",
   "metadata": {},
   "source": [
    "### finish the rest of the 14 iterations"
   ]
  },
  {
   "cell_type": "code",
   "execution_count": null,
   "metadata": {
    "collapsed": false
   },
   "outputs": [],
   "source": [
    "algo.runIt(inst,I1,I2,'offAxis')"
   ]
  },
  {
   "cell_type": "markdown",
   "metadata": {},
   "source": [
    "### If you want to keep iterating, we will be using the parameters from the Iter No. algo.outerItr"
   ]
  },
  {
   "cell_type": "code",
   "execution_count": null,
   "metadata": {
    "collapsed": false
   },
   "outputs": [],
   "source": [
    "print(algo.outerItr)\n",
    "print(algo.debugLevel)\n",
    "algo.nextItr(inst,I1,I2,'offAxis',2)"
   ]
  },
  {
   "cell_type": "markdown",
   "metadata": {},
   "source": [
    "### plot the Zernikes Zn (n>=4)"
   ]
  },
  {
   "cell_type": "code",
   "execution_count": null,
   "metadata": {
    "collapsed": false
   },
   "outputs": [],
   "source": [
    "algo.setDebugLevel(0)\n",
    "plot.plotZer(algo.zer4UpNm,'nm')"
   ]
  }
 ],
 "metadata": {
  "kernelspec": {
   "display_name": "Python 2",
   "language": "python",
   "name": "python2"
  },
  "language_info": {
   "codemirror_mode": {
    "name": "ipython",
    "version": 2
   },
   "file_extension": ".py",
   "mimetype": "text/x-python",
   "name": "python",
   "nbconvert_exporter": "python",
   "pygments_lexer": "ipython2",
   "version": "2.7.12"
  }
 },
 "nbformat": 4,
 "nbformat_minor": 0
}
